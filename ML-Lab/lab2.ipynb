{
 "cells": [
  {
   "cell_type": "markdown",
   "metadata": {},
   "source": [
    "# LAB-2: Candidate Elimination Algorithm"
   ]
  },
  {
   "cell_type": "code",
   "execution_count": 1,
   "metadata": {},
   "outputs": [
    {
     "name": "stdout",
     "output_type": "stream",
     "text": [
      "Initial Specific Hypothesis is =  ['0', '0', '0', '0', '0', '0']\n",
      "Initial General Hypothesis is =  [['?', '?', '?', '?', '?', '?']]\n",
      "\n",
      "S [1]  =  ['sunny', 'warm', 'normal', 'strong', 'warm', 'same']\n",
      "G [1]  =  [['?', '?', '?', '?', '?', '?']]\n",
      "\n",
      "S [2]  =  ['sunny', 'warm', 'normal', 'strong', 'warm', 'same']\n",
      "G [2]  =  [['sunny', '?', '?', '?', '?', '?'], ['?', 'warm', '?', '?', '?', '?'], ['?', '?', 'normal', '?', '?', '?'], ['?', '?', '?', '?', '?', 'same']]\n",
      "\n",
      "S [3]  =  ['sunny', 'warm', '?', 'strong', '?', '?']\n",
      "G [3]  =  [['sunny', '?', '?', '?', '?', '?'], ['?', 'warm', '?', '?', '?', '?']]\n",
      "\n",
      "S[4] =  ['sunny', 'warm', '?', 'strong', '?', '?']\n",
      "G[4] =  [['sunny', '?', '?', '?', '?', '?'], ['?', 'warm', '?', '?', '?', '?']]\n",
      "\n",
      "Final hypothesis is: ['sunny', 'warm', '?', 'strong', '?', '?']\n"
     ]
    }
   ],
   "source": [
    "dataarr=[]\n",
    "with open('Datasets/lab2.csv') as f:\n",
    "    for line in f:\n",
    "        dataarr.append(line.strip().split(','))\n",
    "\n",
    "rows = len (dataarr)\n",
    "cols = len (dataarr[0])\n",
    "shypo = ['0']* (cols-1)\n",
    "ghypo = [['?']* (cols-1)]\n",
    "print(\"Initial Specific Hypothesis is = \", shypo)\n",
    "print(\"Initial General Hypothesis is = \", ghypo)\n",
    "\n",
    "for x in range (1, rows):\n",
    "    lst = dataarr[x]\n",
    "\n",
    "    if lst[cols-1] == \"1\" :\n",
    "        for i in range(0, cols-1):\n",
    "            if shypo[i] == lst[i]:\n",
    "                continue\n",
    "            shypo[i] = '?' if shypo[i] != '0' else lst[i]\n",
    "            for g in ghypo:\n",
    "                if g[i] != '?' and shypo[i] == '?':\n",
    "                    ghypo.remove(g)\n",
    "    elif lst[cols-1] == \"0\":\n",
    "        ghypo.clear()\n",
    "        for i in range(0, cols-1):\n",
    "            if lst[i] != shypo[i] and shypo[i] != '?':\n",
    "                temp_list = ['?']*i + [shypo[i]] + (['?']*(cols-2-i))\n",
    "                if temp_list not in ghypo:\n",
    "                    ghypo.append(temp_list)\n",
    "\n",
    "    print(\"\\nS\", [x], \" = \", shypo)\n",
    "    print(\"G\", [x], \" = \", ghypo)\n",
    "print (\"\\nS[4] = \", shypo)\n",
    "print (\"G[4] = \", ghypo)\n",
    "\n",
    "print(\"\\nFinal hypothesis is:\", shypo)"
   ]
  }
 ],
 "metadata": {
  "kernelspec": {
   "display_name": "Python 3",
   "language": "python",
   "name": "python3"
  },
  "language_info": {
   "codemirror_mode": {
    "name": "ipython",
    "version": 3
   },
   "file_extension": ".py",
   "mimetype": "text/x-python",
   "name": "python",
   "nbconvert_exporter": "python",
   "pygments_lexer": "ipython3",
   "version": "3.8.3"
  }
 },
 "nbformat": 4,
 "nbformat_minor": 2
}
