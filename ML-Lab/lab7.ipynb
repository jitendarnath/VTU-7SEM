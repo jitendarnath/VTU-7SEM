{
 "metadata": {
  "language_info": {
   "codemirror_mode": {
    "name": "ipython",
    "version": 3
   },
   "file_extension": ".py",
   "mimetype": "text/x-python",
   "name": "python",
   "nbconvert_exporter": "python",
   "pygments_lexer": "ipython3",
   "version": "3.8.3-final"
  },
  "orig_nbformat": 2,
  "kernelspec": {
   "name": "python3",
   "display_name": "Python 3.8.3 32-bit",
   "metadata": {
    "interpreter": {
     "hash": "a4e670216cecda125f096b5ab28e96bfa82005168644792d75b1ef90ce241228"
    }
   }
  }
 },
 "nbformat": 4,
 "nbformat_minor": 2,
 "cells": [
  {
   "cell_type": "code",
   "execution_count": 6,
   "metadata": {},
   "outputs": [
    {
     "output_type": "stream",
     "name": "stdout",
     "text": [
      "[{\n    \"class\" : \"Distribution\",\n    \"dtype\" : \"str\",\n    \"name\" : \"DiscreteDistribution\",\n    \"parameters\" : [\n        {\n            \"True\" : 0.48076923076923084,\n            \"False\" : 0.5192307692307693\n        }\n    ],\n    \"frozen\" : false\n}\n {\n    \"class\" : \"Distribution\",\n    \"dtype\" : \"str\",\n    \"name\" : \"DiscreteDistribution\",\n    \"parameters\" : [\n        {\n            \"True\" : 0.14423076923076955,\n            \"False\" : 0.8557692307692304\n        }\n    ],\n    \"frozen\" : false\n}\n {\n    \"class\" : \"Distribution\",\n    \"dtype\" : \"str\",\n    \"name\" : \"DiscreteDistribution\",\n    \"parameters\" : [\n        {\n            \"True\" : 0.5,\n            \"False\" : 0.5\n        }\n    ],\n    \"frozen\" : false\n}]\n"
     ]
    }
   ],
   "source": [
    "from pomegranate import *\n",
    "Asia=DiscreteDistribution ({ 'True':0.5, 'False':0.5})\n",
    "Tuberculosis=ConditionalProbabilityTable(\n",
    "[['True', 'True',0.2],\n",
    "['True','False',0.8],\n",
    "['False', 'True',0.1],\n",
    "['False','False',0.98]], [Asia])\n",
    "\n",
    "smoking=DiscreteDistribution ({ 'True':0.5,'False':0.5})\n",
    "Lung=ConditionalProbabilityTable(\n",
    "[['True', 'True', 0.75],\n",
    "['True', 'False', 0.25],\n",
    "['False', 'True', 0.02],\n",
    "['False','False',0.98]], [smoking])\n",
    "\n",
    "Bronchitis=ConditionalProbabilityTable(\n",
    "[['True', 'True',0.92],\n",
    "['True', 'False', 0.08],\n",
    "['False', 'True',0.03],\n",
    "['False','False', 0.98]], [smoking])\n",
    "\n",
    "Tuberculosis_or_cancer=ConditionalProbabilityTable(\n",
    "[['True', 'True', 'True', 1.0],\n",
    "['True', 'True', 'False',0.0],\n",
    "['True', 'False', 'True', 1.0],\n",
    "['True', 'False','False', 0.0],\n",
    "['False', 'True', 'True', 1.0],\n",
    "['False', 'True', 'False',0.0],\n",
    "['False', 'False', 'True', 1.0],\n",
    "['False', 'False', 'False',0.0]], [Tuberculosis, Lung])\n",
    "\n",
    "Xray=ConditionalProbabilityTable(\n",
    "[['True', 'True',0.885],\n",
    "['True', 'False',0.115],\n",
    "['False', 'True', 0.04],\n",
    "['False', 'False',0.96]], [Tuberculosis_or_cancer])\n",
    "\n",
    "dyspnea=ConditionalProbabilityTable(\n",
    "[['True', 'True', 'True', 0.96],\n",
    "['True', 'True', 'False', 0.04],\n",
    "['True', 'False', 'True', 0.89],\n",
    "['True', 'False', 'False',0.11],\n",
    "['False', 'True', 'True', 0.96],\n",
    "['False', 'True', 'False', 0.04],\n",
    "['False', 'False', 'True', 0.89],\n",
    "['False', 'False', 'False',0.11]], [Tuberculosis_or_cancer, Bronchitis])\n",
    "\n",
    "s0=State (Asia, name=\"Asia\")\n",
    "s1=State (Tuberculosis, name=\"Tuberculosis\")\n",
    "s2=State (smoking, name=\"smoker\")\n",
    "\n",
    "network=BayesianNetwork(\"asia\")\n",
    "network.add_nodes (s0, s1, s2)\n",
    "network.add_edge (s0, s1)\n",
    "network.add_edge (s1, s2)\n",
    "network.bake()\n",
    "print (network.predict_proba({'tuberculosis':'True' }))"
   ]
  },
  {
   "cell_type": "code",
   "execution_count": null,
   "metadata": {},
   "outputs": [],
   "source": []
  }
 ]
}