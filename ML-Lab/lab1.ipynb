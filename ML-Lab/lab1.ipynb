{
 "cells": [
  {
   "cell_type": "code",
   "execution_count": 1,
   "metadata": {},
   "outputs": [
    {
     "name": "stdout",
     "output_type": "stream",
     "text": [
      "['sunny', 'warm', 'normal', 'strong', 'warm', 'same', 'TRUE']\n",
      "['sunny', 'warm', 'high', 'strong', 'warm', 'same', 'TRUE']\n",
      "['rainy', 'cold', 'high', 'strong', 'warm', 'change', 'FALSE']\n",
      "['sunny', 'warm', 'high', 'strong', 'cold', 'change', 'TRUE']\n",
      "most specific hypothesis is:\n",
      "[['sunny', 'warm', '?', 'strong', '?', '?']]\n"
     ]
    }
   ],
   "source": [
    "import csv\n",
    "with open('Datasets\\lab1.csv', 'r')as f:\n",
    "    reader=csv.reader(f)\n",
    "    your_list=list(reader)\n",
    "    h=[['0','0','0','0','0','0']]\n",
    "    for i in your_list:\n",
    "        print(i)\n",
    "        if i[-1]==\"TRUE\" :\n",
    "            j=0\n",
    "            for x in i:\n",
    "                if x!= \"TRUE\":\n",
    "                    if x!=h[0][j] and h[0][j]=='0':\n",
    "                        h[0][j] =x\n",
    "                    elif x!=h[0][j] and h[0][j]!='0':\n",
    "                        h[0][j] ='?'\n",
    "                    else:\n",
    "                        pass\n",
    "                j=j+1\n",
    "print(\"most specific hypothesis is:\")\n",
    "print(h)"
   ]
  }
 ],
 "metadata": {
  "kernelspec": {
   "display_name": "Python 3",
   "language": "python",
   "name": "python3"
  },
  "language_info": {
   "codemirror_mode": {
    "name": "ipython",
    "version": 3
   },
   "file_extension": ".py",
   "mimetype": "text/x-python",
   "name": "python",
   "nbconvert_exporter": "python",
   "pygments_lexer": "ipython3",
   "version": "3.8.3"
  }
 },
 "nbformat": 4,
 "nbformat_minor": 2
}
